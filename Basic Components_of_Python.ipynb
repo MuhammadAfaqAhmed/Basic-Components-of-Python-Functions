{
 "cells": [
  {
   "cell_type": "markdown",
   "metadata": {},
   "source": [
    "# Introduction.\n",
    " - A thorough understanding of the basic components of programming language is very important in the development of any code. Here is the outline of all the fundamental concepts of the Python language. Just like how parts of speech form a basic building block of the English language, the following components form Python’s parts of speech."
   ]
  },
  {
   "cell_type": "markdown",
   "metadata": {},
   "source": [
    "# 1. Variables\n",
    " In English language Noun is the most significant part, which identifies a person, place, animal, and a thing by providing a name to it. In Python, variables act as a noun which provides a name for every string, constant, or numerical value. Variables are containers of the data, which can be accessed, edited, and used throughout the program. In Python everything is treated as an object. An object is an entity that contains associated attributes and methods. The type of the data is not linked to the variable, instead of the object itself.\n",
    "\n",
    "- For Example:\n",
    "- x = 5\n",
    "- print(x)\n",
    "- y= \"Learning python\"\n",
    "- print(y)\n",
    "\n",
    "- x= x+10\n",
    "- print(x)\n",
    "\n",
    "## Types or Class of variables\n",
    "type(x)\n",
    "print(type(x))\n",
    "print(type(y))\n",
    "print type class\n",
    "\n",
    "## rules to assign a variable:\n",
    "- 1st rule- The variables should contain letters, numbers, or underscores\n",
    "- 2nd rule- do not start with numbers\n",
    "- 3rd rule- spaces are not allowed\n",
    "- 4th rule- Do not use key words in functions (mean, median, test etc)\n",
    "- 5th rule- Short and descriptive\n",
    "- 6th rule- Case sensitivity (Lowercase, uppercase letters: lower case letters should be used)\n",
    "\n",
    "## For example:\n",
    "- fruit_basket= \"Mangoes\", \"Oranges\"\n",
    "- fruit_basket= \"Mangoes,Oranges\"\n",
    "- print(fruit_basket)\n",
    "- print(type(fruit_basket))\n",
    "- print(fruit_basket)\n",
    "\n",
    "## 1a. Integer\n",
    "Integer consists of positive and negative whole numbers without a decimal point. There are no restrictions on the size of the number in Python.\n",
    "- For Example:\n",
    "  - 10, 35,42 etc…\n",
    "  - X=input(‘Enter a number:’)\n",
    "\n",
    "## 1b. Float\n",
    "Float or Floating-point numbers are real numbers with a decimal point.\n",
    "- For Example:\n",
    "  - 10.1, 35.7,67.90\n",
    "\n",
    "## 1c. Complex\n",
    "Complex numbers are represented by X+Yj, where X and Y are real numbers and j is the imaginary part. This data type is very useful in scientific calculations.\n",
    "- For Example:\n",
    "  - 3+4j (where j is √-1).\n",
    "\n",
    "## 1d. String\n",
    "The string consists of one or more characters enclosed in single, double, or triple quotes.\n",
    "\n",
    "- For Example:\n",
    " - str1= ‘This is Python Programming’\n",
    " - str2= print(\"Hello World\")\n",
    " - str3= print(\"I am Learning Python\")\n",
    " - str4= print('Test for single quote')\n",
    " - str5= print(\"Test for double quotes\")\n",
    " - str6= print('''Test for triple quotes''')"
   ]
  },
  {
   "cell_type": "markdown",
   "metadata": {},
   "source": [
    "# 2. Collectives\n",
    "Collections are additional data types in Python required to handle special data values other than the ordinary ones. Collections can be treated as a container of information just like a variable, but it allows flexibility with the kind of information it can hold.\n",
    "There are four collection data types in Python.\n",
    "\n",
    "## 2a. Lists\n",
    "Lists are the ordered collection of series of data of various data types.\n",
    "\n",
    "- For Example:\n",
    "  - Items added to the shopping carts:\n",
    "  - list_shopping = [‘Pencil’,’Biscuits’,’Shirt’,’Toothpaste’]\n",
    "   -- The above shopping cart items contain a variety of goods required for a household.\n",
    "In python terms every data is indexed. The index can be treated as a pointer to the information the list holds lists. Each element is indexed in the order of insertion. In Python Index starts from ‘0’.\n",
    "\n",
    "## 2b. Tuple\n",
    "Tuples are ordered collection of data just like a list but tuples cannot be altered once declared.\n",
    "\n",
    "- For Example:\n",
    "  -  Number of days in a week\n",
    "  -  tuple_days=(‘Mon’,’Tue’,’Wed’,’Thurs’,’Friday’,’Sat’,’Sun’)\n",
    "Tuples elements can be accessed just like lists using a for-loop\n",
    "\n",
    "## 2c. Set\n",
    "Sets are an unordered collection of data, which does not allow duplicate values.\n",
    "\n",
    "- For Example:\n",
    "   - Id of members who have booked tickets for the film show.\n",
    "   - set_users={1234,6789,1245,1567}\n",
    "\n",
    "## 2d. Dictionary\n",
    "Dictionaries are ordered collections of key-value data. It does not allow duplication of keys but duplicate values are allowed.\n",
    "\n",
    "- For Example:\n",
    "  -Number and name of passengers who have reserved seats on the train.\n",
    "  - Dict_passengers = {1234 : ‘John’, 1567 : ‘Mary’, 1890 : ‘John’}\n",
    "\n",
    "# 3. Loops\n",
    "Loops are an important part of any programming language. They are used to execute a set of instructions repeatedly until a condition is met where the loop can be terminated.\n",
    "There are two main loops in Python.\n",
    "\n",
    "## 3a. While\n",
    "While loop executes given set of instructions until the condition specified in the loop is satisfied.\n",
    "Below is the structure of a while loop:\n",
    "while(condition): statement\n",
    "\n",
    "## 3b. for\n",
    "For loop works on sequence data like lists, tuples, sets and execute the given set of statements as long as there are elements in the sequence."
   ]
  },
  {
   "cell_type": "code",
   "execution_count": 3,
   "metadata": {},
   "outputs": [
    {
     "name": "stdout",
     "output_type": "stream",
     "text": [
      "10\n",
      "20\n",
      "30\n",
      "Bed\n",
      "18.5\n"
     ]
    }
   ],
   "source": [
    "#Example of list\n",
    "list1 = ['10', '20', '30', 'Bed', '18.5']\n",
    "for x in list1:\n",
    "    print(x)"
   ]
  },
  {
   "cell_type": "code",
   "execution_count": 2,
   "metadata": {},
   "outputs": [
    {
     "name": "stdout",
     "output_type": "stream",
     "text": [
      "10\n",
      "20\n",
      "30\n",
      "Bed\n",
      "18.5\n"
     ]
    }
   ],
   "source": [
    "#Example of tuple\n",
    "tuple1= ('10', '20', '30', 'Bed', '18.5')\n",
    "for x in tuple1:\n",
    "    print(x)"
   ]
  },
  {
   "cell_type": "code",
   "execution_count": 7,
   "metadata": {},
   "outputs": [
    {
     "name": "stdout",
     "output_type": "stream",
     "text": [
      "10\n",
      "20\n",
      "30\n",
      "40\n",
      "50\n"
     ]
    }
   ],
   "source": [
    "#Example of set\n",
    "set1 = {'10', '20', '30', '40','50'}\n",
    "type(set1)\n",
    "\n",
    "#Example 2 of set\n",
    "set1 = {'10', '20', '30', '40', '50'}\n",
    "for x in set1:\n",
    "    print(x)\n"
   ]
  },
  {
   "cell_type": "code",
   "execution_count": 9,
   "metadata": {},
   "outputs": [
    {
     "name": "stdout",
     "output_type": "stream",
     "text": [
      "dict_keys(['A', 'B', 'C', 'D'])\n"
     ]
    }
   ],
   "source": [
    "#Example of dictionary\n",
    "dict1 = {'A': '20', 'B': '30', 'C': '40', 'D': '50'}\n",
    "type(dict1)\n",
    "\n",
    "dict1 = {'A': '20', 'B': '30', 'C': '40', 'D': '50'}\n",
    "print(dict1.keys())\n",
    "print(dict1.values())\n",
    "\n"
   ]
  },
  {
   "cell_type": "code",
   "execution_count": 10,
   "metadata": {},
   "outputs": [],
   "source": [
    "#Example of while loop\n",
    "x=1\n",
    "while (x>0):\n",
    "    print(x)\n",
    "    x=x+1\n",
    "#The above while -loop prints numbers 1 to 10 as the while condition fails when the value of x is more than 10.\n"
   ]
  },
  {
   "cell_type": "code",
   "execution_count": null,
   "metadata": {},
   "outputs": [],
   "source": []
  }
 ],
 "metadata": {
  "kernelspec": {
   "display_name": "Python 3.10.5 64-bit",
   "language": "python",
   "name": "python3"
  },
  "language_info": {
   "codemirror_mode": {
    "name": "ipython",
    "version": 3
   },
   "file_extension": ".py",
   "mimetype": "text/x-python",
   "name": "python",
   "nbconvert_exporter": "python",
   "pygments_lexer": "ipython3",
   "version": "3.10.5"
  },
  "orig_nbformat": 4,
  "vscode": {
   "interpreter": {
    "hash": "902503f04a7684b2a75ddc5d33303c67a3d5695c462b3e85df1c5182ae22938c"
   }
  }
 },
 "nbformat": 4,
 "nbformat_minor": 2
}
