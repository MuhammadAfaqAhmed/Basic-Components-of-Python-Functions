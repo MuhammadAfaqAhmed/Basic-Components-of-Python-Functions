{
 "cells": [
  {
   "cell_type": "markdown",
   "metadata": {},
   "source": [
    "# Python Functions\n",
    "A function is a block of code which only runs when it is called. You can pass data, known as parameters, into a function. A function can return data as a result.\n",
    "- In Python a function is defined using the def keyword\n",
    " - For example:\n",
    "  - def my_function(): print(\"hello i am a function\")"
   ]
  },
  {
   "cell_type": "code",
   "execution_count": 1,
   "metadata": {},
   "outputs": [
    {
     "name": "stdout",
     "output_type": "stream",
     "text": [
      "30\n"
     ]
    }
   ],
   "source": [
    "#1\n",
    "def print_functions():\n",
    "     print(\"learning with python\")\n",
    "     print(\"learning with python\")\n",
    "     print(\"learning with python\")\n",
    "     print_functions()\n",
    "     \n",
    "#2\n",
    "def print_functions():\n",
    "     text= \"learning with python or learning with python from internet\"\n",
    "     print(text)\n",
    "     print(text)\n",
    "     print(text)\n",
    "     print_functions()\n",
    "     \n",
    "#3\n",
    "def print_functions(text):\n",
    "    print(text)\n",
    "    print(text)\n",
    "    print(text)\n",
    "    print_functions(\"We are self learning python from internet\")\n",
    "\n",
    "#4 defining a function with if, elif and else statements\n",
    "def school_calculator(age, text):  #or you can also remove text from here if you only want to know about age\n",
    "    if age==5:\n",
    "        print(\"Butler can join the school\")\n",
    "    elif age>5:\n",
    "        print(\"Butler should go to high school\")\n",
    "    else:\n",
    "        print(\"Butler is still a baby\")\n",
    "        school_calculator(15, \"Butler\")    #if you remove text from above then remove \"Butler\" from here\n",
    "\n",
    "#5 defining a future function\n",
    "def future_age(age):\n",
    "    new_age = age+20\n",
    "    return new_age\n",
    "    print(new_age)\n",
    "future_predicted_age = future_age(10)\n",
    "print(future_predicted_age)"
   ]
  }
 ],
 "metadata": {
  "kernelspec": {
   "display_name": "Python 3.10.5 64-bit",
   "language": "python",
   "name": "python3"
  },
  "language_info": {
   "codemirror_mode": {
    "name": "ipython",
    "version": 3
   },
   "file_extension": ".py",
   "mimetype": "text/x-python",
   "name": "python",
   "nbconvert_exporter": "python",
   "pygments_lexer": "ipython3",
   "version": "3.10.5"
  },
  "orig_nbformat": 4,
  "vscode": {
   "interpreter": {
    "hash": "902503f04a7684b2a75ddc5d33303c67a3d5695c462b3e85df1c5182ae22938c"
   }
  }
 },
 "nbformat": 4,
 "nbformat_minor": 2
}
